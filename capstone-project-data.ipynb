{
 "cells": [
  {
   "cell_type": "markdown",
   "metadata": {},
   "source": [
    "# Data preparation for city similarity project (IBM Applied Data Science Capstone)"
   ]
  },
  {
   "cell_type": "markdown",
   "metadata": {},
   "source": [
    "- We will characterize the city/neighborhood main venues and services by using the foursquare API.\n",
    "\n",
    "- We will collect other features by web scrapping, such as services available, airports, etc. Wikipedia will be a resource.\n",
    "\n",
    "- The main feature will use is the cost of living, which will narrow the cities of destination to compare. The site expastitan.com offers such a service.\n",
    "\n",
    "### Libraries and tools\n",
    "- Pandas and numpy for data manipulation.\n",
    "- BeautifulSoup and requests for web scrapping.\n",
    "- Foursquare API and geocoder. For venues and geolocation.\n",
    "- Folium for maps.\n",
    "- Matplotlib for visualization.\n",
    "- Dotenv for api keys manipulation.\n",
    "- Scikit-learn for k-means clustering.\n",
    "\n",
    "# Methods\n",
    "First, we need to establish the country and city of origin. Second we define the target country, i.e., the destination. With this information we will use a recommender engine to find similarities between the cities.\n",
    "\n",
    "When a couple of suitable destination cities are found, we will use k-means clustering to group neighborhoods with similar features, using the Foursquare API. Also, the same analysis we will perform in the neighborhood of origin. We will locate the clusters in a Folium map. \n",
    "\n",
    "With all this data we will report the destination neighborhoods that are similar to the neighborhood of origin.\n"
   ]
  },
  {
   "cell_type": "code",
   "execution_count": 1,
   "metadata": {},
   "outputs": [],
   "source": [
    "import requests\n",
    "from bs4 import BeautifulSoup"
   ]
  },
  {
   "cell_type": "code",
   "execution_count": 2,
   "metadata": {},
   "outputs": [],
   "source": [
    "import numpy as np"
   ]
  },
  {
   "cell_type": "code",
   "execution_count": 3,
   "metadata": {},
   "outputs": [],
   "source": [
    "import pandas as pd"
   ]
  },
  {
   "cell_type": "markdown",
   "metadata": {},
   "source": [
    "Load the content with `BeautifulSoup`"
   ]
  },
  {
   "cell_type": "markdown",
   "metadata": {},
   "source": [
    "## Scraping `expatistan` data\n",
    "\n",
    "`expatistan.com` computes a collaborative international cost of living index, which is useful to compare cities in terms of the daily expenses of life. They offer a worldwide and by region ranking of cities. Also, it is possible to compare two cities directly in terms of several categories, such as food, housing, clothes, transportation, personal care, and entertainment.\n",
    "\n",
    "We start with the ranking of cities in North America because we are interested in compare US cities against Canada cities.\n",
    "The final dataframe will contain the North America cost of living index by city."
   ]
  },
  {
   "cell_type": "code",
   "execution_count": 4,
   "metadata": {},
   "outputs": [],
   "source": [
    "#: worldwide, 1: europe, 2: 'north-america'\n",
    "regions = ('', 'europe', 'north-america', 'latin-america', 'asia', 'middle-east', 'africa', 'oceania')"
   ]
  },
  {
   "cell_type": "code",
   "execution_count": 5,
   "metadata": {},
   "outputs": [],
   "source": [
    "# north-america\n",
    "reg = 2"
   ]
  },
  {
   "cell_type": "code",
   "execution_count": 6,
   "metadata": {},
   "outputs": [],
   "source": [
    "# URL for index for region\n",
    "URL = 'https://www.expatistan.com/cost-of-living/index/'+regions[reg]"
   ]
  },
  {
   "cell_type": "code",
   "execution_count": 7,
   "metadata": {},
   "outputs": [],
   "source": [
    "# get the page\n",
    "page = requests.get(URL)"
   ]
  },
  {
   "cell_type": "code",
   "execution_count": 8,
   "metadata": {},
   "outputs": [],
   "source": [
    "def parse_rank_entry(entry, cities):\n",
    "    \"\"\" Function to parse city row\n",
    "    \"\"\"\n",
    "    clean_entry = entry.strip()[1:-2]\n",
    "    if len(clean_entry) > 0:\n",
    "        elem = clean_entry.split(',')\n",
    "        # in case we fetch 8 elements\n",
    "        if len(elem) < 9: \n",
    "            e = [\"\"]*9\n",
    "            e[0:3] = elem[0:3]\n",
    "            e[3] = \"\"\n",
    "            e[4:] = elem[3:]\n",
    "            elem = e\n",
    "        clean_elems = []\n",
    "        for i, e in enumerate(elem):\n",
    "            clean_elems.append(e.strip(\"\\'\"))\n",
    "        # remove text\n",
    "        clean_elems[6] = clean_elems[6].replace(\"Cost of Living Index: \", \"\")\n",
    "        cities.append(clean_elems)"
   ]
  },
  {
   "cell_type": "code",
   "execution_count": 9,
   "metadata": {},
   "outputs": [],
   "source": [
    "# flags to detect if we are in the javascript code and array cities\n",
    "is_script = False\n",
    "in_cities = False\n",
    "\n",
    "cities = []\n",
    "# iterate in lines\n",
    "for line in page.text.splitlines():\n",
    "    if \"<script\" in line:\n",
    "        is_script = True   \n",
    "    if \"/script>\" in line:\n",
    "        is_script = False\n",
    "    if \"var cities\" in line:\n",
    "        in_cities = True\n",
    "        # remove text\n",
    "        line = line.replace(\"var cities = \", \"\")\n",
    "    # check end of array cities\n",
    "    if in_cities and '}' in line:\n",
    "        in_cities = False\n",
    "    # call function to parse entry\n",
    "    if is_script and in_cities:\n",
    "        parse_rank_entry(line, cities)        "
   ]
  },
  {
   "cell_type": "code",
   "execution_count": 10,
   "metadata": {},
   "outputs": [],
   "source": [
    "# create a new dataframe from cities with proper column names\n",
    "cities_df = pd.DataFrame(cities, columns=[\"Latitude\", \"Longitude\", \"City\", \"State\", \"Score\", \"Population\", \"Index\", \"Code\", \"Country\"])"
   ]
  },
  {
   "cell_type": "code",
   "execution_count": 11,
   "metadata": {},
   "outputs": [
    {
     "data": {
      "text/html": [
       "<div>\n",
       "<style scoped>\n",
       "    .dataframe tbody tr th:only-of-type {\n",
       "        vertical-align: middle;\n",
       "    }\n",
       "\n",
       "    .dataframe tbody tr th {\n",
       "        vertical-align: top;\n",
       "    }\n",
       "\n",
       "    .dataframe thead th {\n",
       "        text-align: right;\n",
       "    }\n",
       "</style>\n",
       "<table border=\"1\" class=\"dataframe\">\n",
       "  <thead>\n",
       "    <tr style=\"text-align: right;\">\n",
       "      <th></th>\n",
       "      <th>Latitude</th>\n",
       "      <th>Longitude</th>\n",
       "      <th>City</th>\n",
       "      <th>State</th>\n",
       "      <th>Score</th>\n",
       "      <th>Population</th>\n",
       "      <th>Index</th>\n",
       "      <th>Code</th>\n",
       "      <th>Country</th>\n",
       "    </tr>\n",
       "  </thead>\n",
       "  <tbody>\n",
       "    <tr>\n",
       "      <th>0</th>\n",
       "      <td>32.293</td>\n",
       "      <td>-64.782</td>\n",
       "      <td>Hamilton</td>\n",
       "      <td></td>\n",
       "      <td>0.005479543556370645</td>\n",
       "      <td>2000</td>\n",
       "      <td>294</td>\n",
       "      <td>hamilton-bermuda</td>\n",
       "      <td>BM</td>\n",
       "    </tr>\n",
       "    <tr>\n",
       "      <th>1</th>\n",
       "      <td>37.3928</td>\n",
       "      <td>-122.042</td>\n",
       "      <td>Mountain View</td>\n",
       "      <td>California</td>\n",
       "      <td>0.0042120264999792045</td>\n",
       "      <td>74066</td>\n",
       "      <td>259</td>\n",
       "      <td>mountain-view-california</td>\n",
       "      <td>US</td>\n",
       "    </tr>\n",
       "    <tr>\n",
       "      <th>2</th>\n",
       "      <td>40.7143</td>\n",
       "      <td>-74.006</td>\n",
       "      <td>New York City</td>\n",
       "      <td></td>\n",
       "      <td>0.004095520327779454</td>\n",
       "      <td>8008278</td>\n",
       "      <td>256</td>\n",
       "      <td>new-york-city</td>\n",
       "      <td>US</td>\n",
       "    </tr>\n",
       "    <tr>\n",
       "      <th>3</th>\n",
       "      <td>37.7793</td>\n",
       "      <td>-122.419</td>\n",
       "      <td>San Francisco</td>\n",
       "      <td>California</td>\n",
       "      <td>0.0036154281359158523</td>\n",
       "      <td>808976</td>\n",
       "      <td>244</td>\n",
       "      <td>san-francisco</td>\n",
       "      <td>US</td>\n",
       "    </tr>\n",
       "    <tr>\n",
       "      <th>4</th>\n",
       "      <td>40.7114</td>\n",
       "      <td>-74.0647</td>\n",
       "      <td>Jersey City</td>\n",
       "      <td>New Jersey</td>\n",
       "      <td>0.00311111959964693</td>\n",
       "      <td>247000</td>\n",
       "      <td>232</td>\n",
       "      <td>jersey-city</td>\n",
       "      <td>US</td>\n",
       "    </tr>\n",
       "    <tr>\n",
       "      <th>...</th>\n",
       "      <td>...</td>\n",
       "      <td>...</td>\n",
       "      <td>...</td>\n",
       "      <td>...</td>\n",
       "      <td>...</td>\n",
       "      <td>...</td>\n",
       "      <td>...</td>\n",
       "      <td>...</td>\n",
       "      <td>...</td>\n",
       "    </tr>\n",
       "    <tr>\n",
       "      <th>63</th>\n",
       "      <td>44.652</td>\n",
       "      <td>-63.5968</td>\n",
       "      <td>Halifax</td>\n",
       "      <td></td>\n",
       "      <td>-0.002083717265444118</td>\n",
       "      <td>359111</td>\n",
       "      <td>138</td>\n",
       "      <td>halifax</td>\n",
       "      <td>CA</td>\n",
       "    </tr>\n",
       "    <tr>\n",
       "      <th>64</th>\n",
       "      <td>45.5168</td>\n",
       "      <td>-73.6492</td>\n",
       "      <td>Montreal</td>\n",
       "      <td></td>\n",
       "      <td>-0.0021564448587349182</td>\n",
       "      <td>3268513</td>\n",
       "      <td>137</td>\n",
       "      <td>montreal</td>\n",
       "      <td>CA</td>\n",
       "    </tr>\n",
       "    <tr>\n",
       "      <th>65</th>\n",
       "      <td>35.0845</td>\n",
       "      <td>-106.651</td>\n",
       "      <td>Albuquerque</td>\n",
       "      <td>New Mexico</td>\n",
       "      <td>-0.0026042808850046573</td>\n",
       "      <td>487378</td>\n",
       "      <td>131</td>\n",
       "      <td>albuquerque</td>\n",
       "      <td>US</td>\n",
       "    </tr>\n",
       "    <tr>\n",
       "      <th>66</th>\n",
       "      <td>35.1495</td>\n",
       "      <td>-90.049</td>\n",
       "      <td>Memphis</td>\n",
       "      <td>Tennessee</td>\n",
       "      <td>-0.0028359514778200003</td>\n",
       "      <td>650100</td>\n",
       "      <td>128</td>\n",
       "      <td>memphis</td>\n",
       "      <td>US</td>\n",
       "    </tr>\n",
       "    <tr>\n",
       "      <th>67</th>\n",
       "      <td>46.8123</td>\n",
       "      <td>-71.2145</td>\n",
       "      <td>Quebec City</td>\n",
       "      <td></td>\n",
       "      <td>-0.0029143832524302572</td>\n",
       "      <td>528595</td>\n",
       "      <td>127</td>\n",
       "      <td>quebec-city</td>\n",
       "      <td>CA</td>\n",
       "    </tr>\n",
       "  </tbody>\n",
       "</table>\n",
       "<p>68 rows × 9 columns</p>\n",
       "</div>"
      ],
      "text/plain": [
       "   Latitude Longitude           City        State                   Score  \\\n",
       "0    32.293   -64.782       Hamilton                 0.005479543556370645   \n",
       "1   37.3928  -122.042  Mountain View   California   0.0042120264999792045   \n",
       "2   40.7143   -74.006  New York City                 0.004095520327779454   \n",
       "3   37.7793  -122.419  San Francisco   California   0.0036154281359158523   \n",
       "4   40.7114  -74.0647    Jersey City   New Jersey     0.00311111959964693   \n",
       "..      ...       ...            ...          ...                     ...   \n",
       "63   44.652  -63.5968        Halifax                -0.002083717265444118   \n",
       "64  45.5168  -73.6492       Montreal               -0.0021564448587349182   \n",
       "65  35.0845  -106.651    Albuquerque   New Mexico  -0.0026042808850046573   \n",
       "66  35.1495   -90.049        Memphis    Tennessee  -0.0028359514778200003   \n",
       "67  46.8123  -71.2145    Quebec City               -0.0029143832524302572   \n",
       "\n",
       "   Population Index                      Code Country  \n",
       "0        2000   294          hamilton-bermuda      BM  \n",
       "1       74066   259  mountain-view-california      US  \n",
       "2     8008278   256             new-york-city      US  \n",
       "3      808976   244             san-francisco      US  \n",
       "4      247000   232               jersey-city      US  \n",
       "..        ...   ...                       ...     ...  \n",
       "63     359111   138                   halifax      CA  \n",
       "64    3268513   137                  montreal      CA  \n",
       "65     487378   131               albuquerque      US  \n",
       "66     650100   128                   memphis      US  \n",
       "67     528595   127               quebec-city      CA  \n",
       "\n",
       "[68 rows x 9 columns]"
      ]
     },
     "execution_count": 11,
     "metadata": {},
     "output_type": "execute_result"
    }
   ],
   "source": [
    "cities_df"
   ]
  },
  {
   "cell_type": "code",
   "execution_count": 91,
   "metadata": {},
   "outputs": [
    {
     "data": {
      "text/html": [
       "<div>\n",
       "<style scoped>\n",
       "    .dataframe tbody tr th:only-of-type {\n",
       "        vertical-align: middle;\n",
       "    }\n",
       "\n",
       "    .dataframe tbody tr th {\n",
       "        vertical-align: top;\n",
       "    }\n",
       "\n",
       "    .dataframe thead th {\n",
       "        text-align: right;\n",
       "    }\n",
       "</style>\n",
       "<table border=\"1\" class=\"dataframe\">\n",
       "  <thead>\n",
       "    <tr style=\"text-align: right;\">\n",
       "      <th></th>\n",
       "      <th>Latitude</th>\n",
       "      <th>Longitude</th>\n",
       "      <th>City</th>\n",
       "      <th>State</th>\n",
       "      <th>Score</th>\n",
       "      <th>Population</th>\n",
       "      <th>Index</th>\n",
       "      <th>Code</th>\n",
       "      <th>Country</th>\n",
       "    </tr>\n",
       "  </thead>\n",
       "  <tbody>\n",
       "    <tr>\n",
       "      <th>count</th>\n",
       "      <td>68</td>\n",
       "      <td>68</td>\n",
       "      <td>68</td>\n",
       "      <td>68</td>\n",
       "      <td>68</td>\n",
       "      <td>68</td>\n",
       "      <td>68</td>\n",
       "      <td>68</td>\n",
       "      <td>68</td>\n",
       "    </tr>\n",
       "    <tr>\n",
       "      <th>unique</th>\n",
       "      <td>68</td>\n",
       "      <td>68</td>\n",
       "      <td>68</td>\n",
       "      <td>34</td>\n",
       "      <td>52</td>\n",
       "      <td>68</td>\n",
       "      <td>52</td>\n",
       "      <td>68</td>\n",
       "      <td>3</td>\n",
       "    </tr>\n",
       "    <tr>\n",
       "      <th>top</th>\n",
       "      <td>43.6136</td>\n",
       "      <td>-96.8067</td>\n",
       "      <td>Charleston</td>\n",
       "      <td></td>\n",
       "      <td>-0.00023637623345073243</td>\n",
       "      <td>330000</td>\n",
       "      <td>138</td>\n",
       "      <td>philadelphia</td>\n",
       "      <td>US</td>\n",
       "    </tr>\n",
       "    <tr>\n",
       "      <th>freq</th>\n",
       "      <td>1</td>\n",
       "      <td>1</td>\n",
       "      <td>1</td>\n",
       "      <td>14</td>\n",
       "      <td>3</td>\n",
       "      <td>1</td>\n",
       "      <td>3</td>\n",
       "      <td>1</td>\n",
       "      <td>56</td>\n",
       "    </tr>\n",
       "  </tbody>\n",
       "</table>\n",
       "</div>"
      ],
      "text/plain": [
       "       Latitude Longitude        City State                    Score  \\\n",
       "count        68        68          68    68                       68   \n",
       "unique       68        68          68    34                       52   \n",
       "top     43.6136  -96.8067  Charleston        -0.00023637623345073243   \n",
       "freq          1         1           1    14                        3   \n",
       "\n",
       "       Population Index          Code Country  \n",
       "count          68    68            68      68  \n",
       "unique         68    52            68       3  \n",
       "top        330000   138  philadelphia      US  \n",
       "freq            1     3             1      56  "
      ]
     },
     "execution_count": 91,
     "metadata": {},
     "output_type": "execute_result"
    }
   ],
   "source": [
    "cities_df.describe()"
   ]
  },
  {
   "cell_type": "code",
   "execution_count": 108,
   "metadata": {},
   "outputs": [],
   "source": [
    "cities_df.head().to_clipboard(sep=',')"
   ]
  },
  {
   "cell_type": "code",
   "execution_count": 109,
   "metadata": {},
   "outputs": [],
   "source": [
    "URL = 'https://www.expatistan.com/cost-of-living/comparison/dallas/montreal'"
   ]
  },
  {
   "cell_type": "code",
   "execution_count": 110,
   "metadata": {},
   "outputs": [],
   "source": [
    "page = requests.get(URL)"
   ]
  },
  {
   "cell_type": "code",
   "execution_count": 115,
   "metadata": {},
   "outputs": [],
   "source": [
    "import re"
   ]
  },
  {
   "cell_type": "code",
   "execution_count": 122,
   "metadata": {},
   "outputs": [
    {
     "name": "stdout",
     "output_type": "stream",
     "text": [
      "                <title>Montreal is 14% cheaper than Dallas, Texas. Jul 2020 Cost of Living.</title>\n"
     ]
    }
   ],
   "source": [
    "cl_index=[]\n",
    "for line in page.text.splitlines():\n",
    "    if \"<title>\" in line:\n",
    "        print(line)\n",
    "        cl_index=re.findall(r'\\d+', line)[0]"
   ]
  },
  {
   "cell_type": "code",
   "execution_count": 123,
   "metadata": {},
   "outputs": [
    {
     "data": {
      "text/plain": [
       "'14'"
      ]
     },
     "execution_count": 123,
     "metadata": {},
     "output_type": "execute_result"
    }
   ],
   "source": [
    "cl_index"
   ]
  },
  {
   "cell_type": "markdown",
   "metadata": {},
   "source": [
    "## Scraping `wikipedia.org`"
   ]
  },
  {
   "cell_type": "markdown",
   "metadata": {},
   "source": [
    "Many websites offers airport data: `openflights.org`, `ourairports.com`, etc. Because we are interested in international airports, it is easy to extract this information from `wikipedia.org`.\n",
    "The final tables will contain the city with airports in two countries."
   ]
  },
  {
   "cell_type": "code",
   "execution_count": 12,
   "metadata": {},
   "outputs": [],
   "source": [
    "# International airports listed in wikipedia\n",
    "URL = 'https://en.wikipedia.org/wiki/List_of_international_airports_by_country'\n",
    "page = requests.get(URL)"
   ]
  },
  {
   "cell_type": "code",
   "execution_count": 13,
   "metadata": {},
   "outputs": [],
   "source": [
    "# load the content in beautiful soup\n",
    "soup = BeautifulSoup(page.content, 'html.parser')"
   ]
  },
  {
   "cell_type": "code",
   "execution_count": 14,
   "metadata": {},
   "outputs": [],
   "source": [
    "# look for tables in page\n",
    "tables = soup.findAll(class_=\"wikitable sortable\")"
   ]
  },
  {
   "cell_type": "code",
   "execution_count": 15,
   "metadata": {},
   "outputs": [],
   "source": [
    "def parse_table(tables, first_city):\n",
    "    \"\"\" Function to parse a table (ordered by country) given a city up to the end of the table\n",
    "    \"\"\"\n",
    "    data = []\n",
    "    for table in tables:\n",
    "        append_it = False\n",
    "        rows = table.find_all('tr')\n",
    "\n",
    "        col_name = [name.text.strip() for name in rows[0].find_all('th')]\n",
    "\n",
    "        for row in rows[1:]:\n",
    "            cols = row.find_all('td')\n",
    "            cols = [element.text.strip() for element in cols]\n",
    "            if cols[0] == first_city:\n",
    "                data.append(col_name)\n",
    "                append_it = True\n",
    "            if append_it:\n",
    "                data.append([element for element in cols if element])\n",
    "    return data"
   ]
  },
  {
   "cell_type": "code",
   "execution_count": 16,
   "metadata": {},
   "outputs": [],
   "source": [
    "#countries = set([country.find(class_='toctext').string for country in soup.findAll(class_=\"toclevel-{}\".format(i)) for i in range(2, 6)])"
   ]
  },
  {
   "cell_type": "code",
   "execution_count": 17,
   "metadata": {},
   "outputs": [],
   "source": [
    "# scrape list of countries with an international airport\n",
    "countries = {}\n",
    "bad_names = ('Passenger Roles (2011-2020)', 'Africa', 'Americas', 'Caribbean', 'Central America', 'North America', 'South America',\n",
    "             'Asia', 'Central Asia', 'South Asia', 'Southeast Asia', 'Southwest Asia and the Middle East',\n",
    "             'Europe', 'West Europe', 'Central Europe', 'Southern Europe', 'East Europe', 'Nordic region', 'United Kingdom',\n",
    "             'Oceania', 'See also', 'References')\n",
    "for country in soup.findAll(class_=\"mw-headline\"):\n",
    "    if country.string not in bad_names:\n",
    "        countries[country.string] = country.string"
   ]
  },
  {
   "cell_type": "code",
   "execution_count": 18,
   "metadata": {},
   "outputs": [],
   "source": [
    "# set countries to study. If the country does not have an international airport then it does not appear on the\n",
    "# dictionary and throws a key error\n",
    "country1 = countries['Canada']"
   ]
  },
  {
   "cell_type": "code",
   "execution_count": 19,
   "metadata": {},
   "outputs": [],
   "source": [
    "country2 = countries['United States']"
   ]
  },
  {
   "cell_type": "code",
   "execution_count": 20,
   "metadata": {},
   "outputs": [],
   "source": [
    "# scrape the first city of each country in the table\n",
    "city1 = soup.find(id=country1.replace(\" \", \"_\")).find_all_next('a')[1].string"
   ]
  },
  {
   "cell_type": "code",
   "execution_count": 21,
   "metadata": {},
   "outputs": [],
   "source": [
    "city2 = soup.find(id=country2.replace(\" \", \"_\")).find_all_next('a')[1].string"
   ]
  },
  {
   "cell_type": "code",
   "execution_count": 22,
   "metadata": {},
   "outputs": [],
   "source": [
    "# scrape the airport table for country1\n",
    "country1_airports = parse_table(tables, city1)"
   ]
  },
  {
   "cell_type": "code",
   "execution_count": 23,
   "metadata": {},
   "outputs": [],
   "source": [
    "# scrape the airport table for country2\n",
    "country2_airports = parse_table(tables, city2)"
   ]
  },
  {
   "cell_type": "code",
   "execution_count": 24,
   "metadata": {},
   "outputs": [],
   "source": [
    "# create new dataframes\n",
    "country1_airports_df = pd.DataFrame(country1_airports)"
   ]
  },
  {
   "cell_type": "code",
   "execution_count": 25,
   "metadata": {},
   "outputs": [],
   "source": [
    "c1_airports_df = country1_airports_df.rename(columns=country1_airports_df.iloc[0]).drop(country1_airports_df.index[0]).reset_index(drop=True)"
   ]
  },
  {
   "cell_type": "code",
   "execution_count": 26,
   "metadata": {},
   "outputs": [
    {
     "data": {
      "text/html": [
       "<div>\n",
       "<style scoped>\n",
       "    .dataframe tbody tr th:only-of-type {\n",
       "        vertical-align: middle;\n",
       "    }\n",
       "\n",
       "    .dataframe tbody tr th {\n",
       "        vertical-align: top;\n",
       "    }\n",
       "\n",
       "    .dataframe thead th {\n",
       "        text-align: right;\n",
       "    }\n",
       "</style>\n",
       "<table border=\"1\" class=\"dataframe\">\n",
       "  <thead>\n",
       "    <tr style=\"text-align: right;\">\n",
       "      <th></th>\n",
       "      <th>Location</th>\n",
       "      <th>Airport</th>\n",
       "      <th>IATA Code</th>\n",
       "      <th>Passenger Role</th>\n",
       "      <th>2015 Passengers</th>\n",
       "      <th>2014 Passengers</th>\n",
       "    </tr>\n",
       "  </thead>\n",
       "  <tbody>\n",
       "    <tr>\n",
       "      <th>0</th>\n",
       "      <td>Calgary</td>\n",
       "      <td>Calgary International Airport</td>\n",
       "      <td>YYC</td>\n",
       "      <td>Medium</td>\n",
       "      <td>15,475,759</td>\n",
       "      <td>15,261,108</td>\n",
       "    </tr>\n",
       "    <tr>\n",
       "      <th>1</th>\n",
       "      <td>Edmonton</td>\n",
       "      <td>Edmonton International Airport</td>\n",
       "      <td>YEG</td>\n",
       "      <td>Medium</td>\n",
       "      <td>7,981,074</td>\n",
       "      <td>8,240,161</td>\n",
       "    </tr>\n",
       "    <tr>\n",
       "      <th>2</th>\n",
       "      <td>Whitehorse</td>\n",
       "      <td>Erik Nielsen Whitehorse International Airport</td>\n",
       "      <td>YXY</td>\n",
       "      <td>None</td>\n",
       "      <td>None</td>\n",
       "      <td>None</td>\n",
       "    </tr>\n",
       "    <tr>\n",
       "      <th>3</th>\n",
       "      <td>Gander</td>\n",
       "      <td>Gander International Airport</td>\n",
       "      <td>YQX</td>\n",
       "      <td>None</td>\n",
       "      <td>None</td>\n",
       "      <td>None</td>\n",
       "    </tr>\n",
       "    <tr>\n",
       "      <th>4</th>\n",
       "      <td>Halifax (Goffs)</td>\n",
       "      <td>Halifax Stanfield International Airport</td>\n",
       "      <td>YHZ</td>\n",
       "      <td>Medium</td>\n",
       "      <td>10,897,234</td>\n",
       "      <td>3,663,039</td>\n",
       "    </tr>\n",
       "    <tr>\n",
       "      <th>5</th>\n",
       "      <td>Hamilton</td>\n",
       "      <td>John C. Munro Hamilton International Airport</td>\n",
       "      <td>YHM</td>\n",
       "      <td>Non-Hub</td>\n",
       "      <td>332,378</td>\n",
       "      <td>None</td>\n",
       "    </tr>\n",
       "    <tr>\n",
       "      <th>6</th>\n",
       "      <td>Kelowna</td>\n",
       "      <td>Kelowna International Airport</td>\n",
       "      <td>YLK</td>\n",
       "      <td>Small</td>\n",
       "      <td>None</td>\n",
       "      <td>None</td>\n",
       "    </tr>\n",
       "    <tr>\n",
       "      <th>7</th>\n",
       "      <td>London</td>\n",
       "      <td>London International Airport</td>\n",
       "      <td>YXU</td>\n",
       "      <td>Non-Hub</td>\n",
       "      <td>None</td>\n",
       "      <td>None</td>\n",
       "    </tr>\n",
       "    <tr>\n",
       "      <th>8</th>\n",
       "      <td>Moncton (Dieppe)</td>\n",
       "      <td>Greater Moncton International Airport</td>\n",
       "      <td>YQM</td>\n",
       "      <td>Small</td>\n",
       "      <td>677,159</td>\n",
       "      <td>None</td>\n",
       "    </tr>\n",
       "    <tr>\n",
       "      <th>9</th>\n",
       "      <td>Montreal (Dorval)</td>\n",
       "      <td>Montreal-Pierre Elliott Trudeau International ...</td>\n",
       "      <td>YUL</td>\n",
       "      <td>Medium</td>\n",
       "      <td>15,517,382</td>\n",
       "      <td>14,840,067</td>\n",
       "    </tr>\n",
       "    <tr>\n",
       "      <th>10</th>\n",
       "      <td>Ottawa</td>\n",
       "      <td>Ottawa Macdonald-Cartier International Airport</td>\n",
       "      <td>YOW</td>\n",
       "      <td>Medium</td>\n",
       "      <td>4,656,360</td>\n",
       "      <td>4,616,448</td>\n",
       "    </tr>\n",
       "    <tr>\n",
       "      <th>11</th>\n",
       "      <td>Quebec City</td>\n",
       "      <td>Quebec/Jean Lesage International Airport</td>\n",
       "      <td>YQB</td>\n",
       "      <td>Small</td>\n",
       "      <td>1,584,713</td>\n",
       "      <td>1,574,699</td>\n",
       "    </tr>\n",
       "    <tr>\n",
       "      <th>12</th>\n",
       "      <td>Regina</td>\n",
       "      <td>Regina International Airport</td>\n",
       "      <td>YQR</td>\n",
       "      <td>Small</td>\n",
       "      <td>1,255,957</td>\n",
       "      <td>1,262,577</td>\n",
       "    </tr>\n",
       "    <tr>\n",
       "      <th>13</th>\n",
       "      <td>Saskatoon</td>\n",
       "      <td>Saskatoon John G. Diefenbaker International Ai...</td>\n",
       "      <td>YXE</td>\n",
       "      <td>Small</td>\n",
       "      <td>1,443,446</td>\n",
       "      <td>1,484,615</td>\n",
       "    </tr>\n",
       "    <tr>\n",
       "      <th>14</th>\n",
       "      <td>St. John's</td>\n",
       "      <td>St. John's International Airport</td>\n",
       "      <td>YYT</td>\n",
       "      <td>Small</td>\n",
       "      <td>1,536,000 (est.)</td>\n",
       "      <td>1,600,000</td>\n",
       "    </tr>\n",
       "    <tr>\n",
       "      <th>15</th>\n",
       "      <td>Mississauga / Toronto</td>\n",
       "      <td>Toronto Pearson International Airport</td>\n",
       "      <td>YYZ</td>\n",
       "      <td>Large</td>\n",
       "      <td>41,036,847</td>\n",
       "      <td>38,571,961</td>\n",
       "    </tr>\n",
       "    <tr>\n",
       "      <th>16</th>\n",
       "      <td>Vancouver (Richmond)</td>\n",
       "      <td>Vancouver International Airport</td>\n",
       "      <td>YVR</td>\n",
       "      <td>Large</td>\n",
       "      <td>20,315,978</td>\n",
       "      <td>19,358,203</td>\n",
       "    </tr>\n",
       "    <tr>\n",
       "      <th>17</th>\n",
       "      <td>Victoria</td>\n",
       "      <td>Victoria International Airport</td>\n",
       "      <td>YYJ</td>\n",
       "      <td>Small</td>\n",
       "      <td>1,710,825</td>\n",
       "      <td>1,650,904</td>\n",
       "    </tr>\n",
       "    <tr>\n",
       "      <th>18</th>\n",
       "      <td>Winnipeg</td>\n",
       "      <td>Winnipeg James Armstrong Richardson Internatio...</td>\n",
       "      <td>YWG</td>\n",
       "      <td>Medium</td>\n",
       "      <td>3,778,035</td>\n",
       "      <td>3,669,797</td>\n",
       "    </tr>\n",
       "  </tbody>\n",
       "</table>\n",
       "</div>"
      ],
      "text/plain": [
       "                 Location                                            Airport  \\\n",
       "0                 Calgary                      Calgary International Airport   \n",
       "1                Edmonton                     Edmonton International Airport   \n",
       "2              Whitehorse      Erik Nielsen Whitehorse International Airport   \n",
       "3                  Gander                       Gander International Airport   \n",
       "4         Halifax (Goffs)            Halifax Stanfield International Airport   \n",
       "5                Hamilton       John C. Munro Hamilton International Airport   \n",
       "6                 Kelowna                      Kelowna International Airport   \n",
       "7                  London                       London International Airport   \n",
       "8        Moncton (Dieppe)              Greater Moncton International Airport   \n",
       "9       Montreal (Dorval)  Montreal-Pierre Elliott Trudeau International ...   \n",
       "10                 Ottawa     Ottawa Macdonald-Cartier International Airport   \n",
       "11            Quebec City           Quebec/Jean Lesage International Airport   \n",
       "12                 Regina                       Regina International Airport   \n",
       "13              Saskatoon  Saskatoon John G. Diefenbaker International Ai...   \n",
       "14             St. John's                   St. John's International Airport   \n",
       "15  Mississauga / Toronto              Toronto Pearson International Airport   \n",
       "16   Vancouver (Richmond)                    Vancouver International Airport   \n",
       "17               Victoria                     Victoria International Airport   \n",
       "18               Winnipeg  Winnipeg James Armstrong Richardson Internatio...   \n",
       "\n",
       "   IATA Code Passenger Role   2015 Passengers 2014 Passengers  \n",
       "0        YYC         Medium        15,475,759      15,261,108  \n",
       "1        YEG         Medium         7,981,074       8,240,161  \n",
       "2        YXY           None              None            None  \n",
       "3        YQX           None              None            None  \n",
       "4        YHZ         Medium        10,897,234       3,663,039  \n",
       "5        YHM        Non-Hub           332,378            None  \n",
       "6        YLK          Small              None            None  \n",
       "7        YXU        Non-Hub              None            None  \n",
       "8        YQM          Small           677,159            None  \n",
       "9        YUL         Medium        15,517,382      14,840,067  \n",
       "10       YOW         Medium         4,656,360       4,616,448  \n",
       "11       YQB          Small         1,584,713       1,574,699  \n",
       "12       YQR          Small         1,255,957       1,262,577  \n",
       "13       YXE          Small         1,443,446       1,484,615  \n",
       "14       YYT          Small  1,536,000 (est.)       1,600,000  \n",
       "15       YYZ          Large        41,036,847      38,571,961  \n",
       "16       YVR          Large        20,315,978      19,358,203  \n",
       "17       YYJ          Small         1,710,825       1,650,904  \n",
       "18       YWG         Medium         3,778,035       3,669,797  "
      ]
     },
     "execution_count": 26,
     "metadata": {},
     "output_type": "execute_result"
    }
   ],
   "source": [
    "c1_airports_df"
   ]
  },
  {
   "cell_type": "code",
   "execution_count": 27,
   "metadata": {},
   "outputs": [],
   "source": [
    "country2_airports_df = pd.DataFrame(country2_airports)"
   ]
  },
  {
   "cell_type": "code",
   "execution_count": 28,
   "metadata": {},
   "outputs": [],
   "source": [
    "c2_airports_df = country2_airports_df.rename(columns=country2_airports_df.iloc[0]).drop(country2_airports_df.index[0]).reset_index(drop=True)"
   ]
  },
  {
   "cell_type": "code",
   "execution_count": 124,
   "metadata": {},
   "outputs": [
    {
     "data": {
      "text/html": [
       "<div>\n",
       "<style scoped>\n",
       "    .dataframe tbody tr th:only-of-type {\n",
       "        vertical-align: middle;\n",
       "    }\n",
       "\n",
       "    .dataframe tbody tr th {\n",
       "        vertical-align: top;\n",
       "    }\n",
       "\n",
       "    .dataframe thead th {\n",
       "        text-align: right;\n",
       "    }\n",
       "</style>\n",
       "<table border=\"1\" class=\"dataframe\">\n",
       "  <thead>\n",
       "    <tr style=\"text-align: right;\">\n",
       "      <th></th>\n",
       "      <th>City</th>\n",
       "      <th>Airport</th>\n",
       "      <th>IATA Code</th>\n",
       "      <th>Passenger Role</th>\n",
       "      <th>2015 Passengers</th>\n",
       "      <th>2014 Passengers</th>\n",
       "    </tr>\n",
       "  </thead>\n",
       "  <tbody>\n",
       "    <tr>\n",
       "      <th>count</th>\n",
       "      <td>19</td>\n",
       "      <td>19</td>\n",
       "      <td>19</td>\n",
       "      <td>17</td>\n",
       "      <td>15</td>\n",
       "      <td>13</td>\n",
       "    </tr>\n",
       "    <tr>\n",
       "      <th>unique</th>\n",
       "      <td>19</td>\n",
       "      <td>19</td>\n",
       "      <td>19</td>\n",
       "      <td>4</td>\n",
       "      <td>15</td>\n",
       "      <td>13</td>\n",
       "    </tr>\n",
       "    <tr>\n",
       "      <th>top</th>\n",
       "      <td>Edmonton</td>\n",
       "      <td>Ottawa Macdonald-Cartier International Airport</td>\n",
       "      <td>YUL</td>\n",
       "      <td>Small</td>\n",
       "      <td>7,981,074</td>\n",
       "      <td>15,261,108</td>\n",
       "    </tr>\n",
       "    <tr>\n",
       "      <th>freq</th>\n",
       "      <td>1</td>\n",
       "      <td>1</td>\n",
       "      <td>1</td>\n",
       "      <td>7</td>\n",
       "      <td>1</td>\n",
       "      <td>1</td>\n",
       "    </tr>\n",
       "  </tbody>\n",
       "</table>\n",
       "</div>"
      ],
      "text/plain": [
       "            City                                         Airport IATA Code  \\\n",
       "count         19                                              19        19   \n",
       "unique        19                                              19        19   \n",
       "top     Edmonton  Ottawa Macdonald-Cartier International Airport       YUL   \n",
       "freq           1                                               1         1   \n",
       "\n",
       "       Passenger Role 2015 Passengers 2014 Passengers  \n",
       "count              17              15              13  \n",
       "unique              4              15              13  \n",
       "top             Small       7,981,074      15,261,108  \n",
       "freq                7               1               1  "
      ]
     },
     "execution_count": 124,
     "metadata": {},
     "output_type": "execute_result"
    }
   ],
   "source": [
    "c1_airports_df.describe()"
   ]
  },
  {
   "cell_type": "code",
   "execution_count": 95,
   "metadata": {},
   "outputs": [],
   "source": [
    "c1_airports_df.to_clipboard(sep=',')"
   ]
  },
  {
   "cell_type": "markdown",
   "metadata": {},
   "source": [
    "## Neighborhood segmentation for origin and destination cities\n",
    "\n",
    "This is a mock test, because we need to do the recommendation analysis before doing the clustering.\n",
    "\n",
    "Let's assume that the destination city is Montreal (CA), and the city of origin is Akron (USA)."
   ]
  },
  {
   "cell_type": "code",
   "execution_count": 30,
   "metadata": {},
   "outputs": [
    {
     "data": {
      "text/plain": [
       "True"
      ]
     },
     "execution_count": 30,
     "metadata": {},
     "output_type": "execute_result"
    }
   ],
   "source": [
    "# load environment variables\n",
    "import os\n",
    "from dotenv import load_dotenv\n",
    "load_dotenv()"
   ]
  },
  {
   "cell_type": "code",
   "execution_count": 31,
   "metadata": {},
   "outputs": [],
   "source": [
    "# get foursquare key\n",
    "CLIENT_ID = os.getenv('FOURSQUARE_CLIENT_ID')# your Foursquare ID\n",
    "CLIENT_SECRET = os.getenv('FOURSQUARE_CLIENT_SECRET')# your Foursquare Secret\n",
    "VERSION = '20180605' # Foursquare API version"
   ]
  },
  {
   "cell_type": "code",
   "execution_count": 32,
   "metadata": {},
   "outputs": [],
   "source": [
    "# get bing api key\n",
    "bing_api_key = os.environ.get('BING_API_KEY')"
   ]
  },
  {
   "cell_type": "code",
   "execution_count": 33,
   "metadata": {},
   "outputs": [
    {
     "data": {
      "text/plain": [
       "'Montreal (Dorval)'"
      ]
     },
     "execution_count": 33,
     "metadata": {},
     "output_type": "execute_result"
    }
   ],
   "source": [
    "c1_airports_df.Location[9].strip()"
   ]
  },
  {
   "cell_type": "code",
   "execution_count": 34,
   "metadata": {},
   "outputs": [],
   "source": [
    "# regular expressions\n",
    "import re"
   ]
  },
  {
   "cell_type": "code",
   "execution_count": 35,
   "metadata": {},
   "outputs": [],
   "source": [
    "def clean_city(city):\n",
    "    \"\"\" Remove parenthesis and text between from city\n",
    "    \"\"\"\n",
    "    city = re.sub(\"[\\(\\[].*?[\\)\\]]\", \"\", city)\n",
    "    return city.replace(\" \", \"\") "
   ]
  },
  {
   "cell_type": "code",
   "execution_count": 36,
   "metadata": {},
   "outputs": [],
   "source": [
    "# apply function to each city\n",
    "c1_airports_df.Location = c1_airports_df.Location.apply(clean_city)"
   ]
  },
  {
   "cell_type": "code",
   "execution_count": 37,
   "metadata": {},
   "outputs": [],
   "source": [
    "c1_airports_df = c1_airports_df.rename(columns={'Location': 'City'})"
   ]
  },
  {
   "cell_type": "code",
   "execution_count": 38,
   "metadata": {},
   "outputs": [],
   "source": [
    "dest_city = c1_airports_df.City[9]"
   ]
  },
  {
   "cell_type": "code",
   "execution_count": 39,
   "metadata": {},
   "outputs": [
    {
     "name": "stdout",
     "output_type": "stream",
     "text": [
      "Montreal\n"
     ]
    }
   ],
   "source": [
    "print(dest_city)"
   ]
  },
  {
   "cell_type": "code",
   "execution_count": 40,
   "metadata": {},
   "outputs": [],
   "source": [
    "# find postal codes\n",
    "URL = 'https://worldpostalcode.com/canada/quebec/' + dest_city.lower()\n",
    "page = requests.get(URL)"
   ]
  },
  {
   "cell_type": "markdown",
   "metadata": {},
   "source": [
    "Load the content with `BeautifulSoup`"
   ]
  },
  {
   "cell_type": "code",
   "execution_count": 41,
   "metadata": {},
   "outputs": [],
   "source": [
    "soup = BeautifulSoup(page.content, 'html.parser')"
   ]
  },
  {
   "cell_type": "markdown",
   "metadata": {},
   "source": [
    "The table to scrape is identified by `class=\"codes\"`"
   ]
  },
  {
   "cell_type": "code",
   "execution_count": 42,
   "metadata": {},
   "outputs": [],
   "source": [
    "table = soup.find(class_=\"codes\")"
   ]
  },
  {
   "cell_type": "markdown",
   "metadata": {},
   "source": [
    "Parse the table"
   ]
  },
  {
   "cell_type": "code",
   "execution_count": 44,
   "metadata": {},
   "outputs": [],
   "source": [
    "places = table.find_all(class_ = 'place')\n",
    "codes = table.find_all(class_ = 'code')\n",
    "#print(places)\n",
    "data = []\n",
    "for place, code in zip(places, codes):\n",
    "    data.append((place.string, code.string))"
   ]
  },
  {
   "cell_type": "markdown",
   "metadata": {},
   "source": [
    "Load the table into a dataframe"
   ]
  },
  {
   "cell_type": "code",
   "execution_count": 45,
   "metadata": {},
   "outputs": [
    {
     "data": {
      "text/plain": [
       "[('Beaconsfield', 'H9W'),\n",
       " ('Cote-Saint-Luc West', 'H4W'),\n",
       " ('Dorval Outskirts', 'H9P'),\n",
       " ('Downtown Montreal East', 'H3B'),\n",
       " ('Downtown Montreal North', 'H3A'),\n",
       " ('Downtown Montreal Northeast', 'H2Z'),\n",
       " ('Downtown Montreal South & West', 'H3H'),\n",
       " ('Downtown Montreal Southeast', 'H3G'),\n",
       " ('Hampstead', 'H3X'),\n",
       " ('Kirkland', 'H9J'),\n",
       " ('Montreal East', 'H1B'),\n",
       " ('Montreal North North', 'H1G'),\n",
       " ('Montreal North South', 'H1H'),\n",
       " ('Montreal West', 'H4X'),\n",
       " ('Old Montreal', 'H2Y'),\n",
       " ('Pointe-Claire', 'H9R'),\n",
       " ('Westmount East', 'H3Z'),\n",
       " ('Westmount West', 'H3Y')]"
      ]
     },
     "execution_count": 45,
     "metadata": {},
     "output_type": "execute_result"
    }
   ],
   "source": [
    "data"
   ]
  },
  {
   "cell_type": "code",
   "execution_count": 46,
   "metadata": {},
   "outputs": [],
   "source": [
    "data = pd.DataFrame(data, columns=['Borough', 'PostalCode'])"
   ]
  },
  {
   "cell_type": "code",
   "execution_count": 47,
   "metadata": {},
   "outputs": [
    {
     "data": {
      "text/html": [
       "<div>\n",
       "<style scoped>\n",
       "    .dataframe tbody tr th:only-of-type {\n",
       "        vertical-align: middle;\n",
       "    }\n",
       "\n",
       "    .dataframe tbody tr th {\n",
       "        vertical-align: top;\n",
       "    }\n",
       "\n",
       "    .dataframe thead th {\n",
       "        text-align: right;\n",
       "    }\n",
       "</style>\n",
       "<table border=\"1\" class=\"dataframe\">\n",
       "  <thead>\n",
       "    <tr style=\"text-align: right;\">\n",
       "      <th></th>\n",
       "      <th>Borough</th>\n",
       "      <th>PostalCode</th>\n",
       "    </tr>\n",
       "  </thead>\n",
       "  <tbody>\n",
       "    <tr>\n",
       "      <th>0</th>\n",
       "      <td>Beaconsfield</td>\n",
       "      <td>H9W</td>\n",
       "    </tr>\n",
       "    <tr>\n",
       "      <th>1</th>\n",
       "      <td>Cote-Saint-Luc West</td>\n",
       "      <td>H4W</td>\n",
       "    </tr>\n",
       "    <tr>\n",
       "      <th>2</th>\n",
       "      <td>Dorval Outskirts</td>\n",
       "      <td>H9P</td>\n",
       "    </tr>\n",
       "    <tr>\n",
       "      <th>3</th>\n",
       "      <td>Downtown Montreal East</td>\n",
       "      <td>H3B</td>\n",
       "    </tr>\n",
       "    <tr>\n",
       "      <th>4</th>\n",
       "      <td>Downtown Montreal North</td>\n",
       "      <td>H3A</td>\n",
       "    </tr>\n",
       "    <tr>\n",
       "      <th>5</th>\n",
       "      <td>Downtown Montreal Northeast</td>\n",
       "      <td>H2Z</td>\n",
       "    </tr>\n",
       "    <tr>\n",
       "      <th>6</th>\n",
       "      <td>Downtown Montreal South &amp; West</td>\n",
       "      <td>H3H</td>\n",
       "    </tr>\n",
       "    <tr>\n",
       "      <th>7</th>\n",
       "      <td>Downtown Montreal Southeast</td>\n",
       "      <td>H3G</td>\n",
       "    </tr>\n",
       "    <tr>\n",
       "      <th>8</th>\n",
       "      <td>Hampstead</td>\n",
       "      <td>H3X</td>\n",
       "    </tr>\n",
       "    <tr>\n",
       "      <th>9</th>\n",
       "      <td>Kirkland</td>\n",
       "      <td>H9J</td>\n",
       "    </tr>\n",
       "    <tr>\n",
       "      <th>10</th>\n",
       "      <td>Montreal East</td>\n",
       "      <td>H1B</td>\n",
       "    </tr>\n",
       "    <tr>\n",
       "      <th>11</th>\n",
       "      <td>Montreal North North</td>\n",
       "      <td>H1G</td>\n",
       "    </tr>\n",
       "    <tr>\n",
       "      <th>12</th>\n",
       "      <td>Montreal North South</td>\n",
       "      <td>H1H</td>\n",
       "    </tr>\n",
       "    <tr>\n",
       "      <th>13</th>\n",
       "      <td>Montreal West</td>\n",
       "      <td>H4X</td>\n",
       "    </tr>\n",
       "    <tr>\n",
       "      <th>14</th>\n",
       "      <td>Old Montreal</td>\n",
       "      <td>H2Y</td>\n",
       "    </tr>\n",
       "    <tr>\n",
       "      <th>15</th>\n",
       "      <td>Pointe-Claire</td>\n",
       "      <td>H9R</td>\n",
       "    </tr>\n",
       "    <tr>\n",
       "      <th>16</th>\n",
       "      <td>Westmount East</td>\n",
       "      <td>H3Z</td>\n",
       "    </tr>\n",
       "    <tr>\n",
       "      <th>17</th>\n",
       "      <td>Westmount West</td>\n",
       "      <td>H3Y</td>\n",
       "    </tr>\n",
       "  </tbody>\n",
       "</table>\n",
       "</div>"
      ],
      "text/plain": [
       "                           Borough PostalCode\n",
       "0                     Beaconsfield        H9W\n",
       "1              Cote-Saint-Luc West        H4W\n",
       "2                 Dorval Outskirts        H9P\n",
       "3           Downtown Montreal East        H3B\n",
       "4          Downtown Montreal North        H3A\n",
       "5      Downtown Montreal Northeast        H2Z\n",
       "6   Downtown Montreal South & West        H3H\n",
       "7      Downtown Montreal Southeast        H3G\n",
       "8                        Hampstead        H3X\n",
       "9                         Kirkland        H9J\n",
       "10                   Montreal East        H1B\n",
       "11            Montreal North North        H1G\n",
       "12            Montreal North South        H1H\n",
       "13                   Montreal West        H4X\n",
       "14                    Old Montreal        H2Y\n",
       "15                   Pointe-Claire        H9R\n",
       "16                  Westmount East        H3Z\n",
       "17                  Westmount West        H3Y"
      ]
     },
     "execution_count": 47,
     "metadata": {},
     "output_type": "execute_result"
    }
   ],
   "source": [
    "data"
   ]
  },
  {
   "cell_type": "markdown",
   "metadata": {},
   "source": [
    "Check for repetitions for `PostalCode`"
   ]
  },
  {
   "cell_type": "markdown",
   "metadata": {},
   "source": [
    "### Geolocation data by bing!"
   ]
  },
  {
   "cell_type": "code",
   "execution_count": 48,
   "metadata": {},
   "outputs": [],
   "source": [
    "import geocoder"
   ]
  },
  {
   "cell_type": "markdown",
   "metadata": {},
   "source": [
    "Use geocoder and bing to obtain the coordinates for each postal code"
   ]
  },
  {
   "cell_type": "code",
   "execution_count": 49,
   "metadata": {},
   "outputs": [],
   "source": [
    "coords = []\n",
    "for i in data.index:\n",
    "    postal_code = data.at[i, 'PostalCode']\n",
    "\n",
    "    lat_lng_coords = None\n",
    "\n",
    "    g = []\n",
    "    while(not g):\n",
    "        g = geocoder.bing(location=dest_city, postalCode='{}'.format(postal_code), method='details', key=bing_api_key)\n",
    "        \n",
    "    \n",
    "    lat_lng_coords = g.latlng\n",
    "\n",
    "    coords.append([lat_lng_coords[0], lat_lng_coords[1]])"
   ]
  },
  {
   "cell_type": "code",
   "execution_count": 50,
   "metadata": {},
   "outputs": [],
   "source": [
    "dest_city_data = pd.concat([data, pd.DataFrame(coords)], axis=1).sort_values(by='PostalCode').reset_index(drop=True)"
   ]
  },
  {
   "cell_type": "code",
   "execution_count": 51,
   "metadata": {},
   "outputs": [],
   "source": [
    "dest_city_data.rename(columns={0: 'Latitude', 1: 'Longitude'}, inplace=True)"
   ]
  },
  {
   "cell_type": "markdown",
   "metadata": {},
   "source": [
    "Table with coordinates retrieved using bing"
   ]
  },
  {
   "cell_type": "code",
   "execution_count": 85,
   "metadata": {},
   "outputs": [],
   "source": [
    "dest_city_data.to_clipboard(sep=',')"
   ]
  },
  {
   "cell_type": "code",
   "execution_count": 54,
   "metadata": {},
   "outputs": [],
   "source": [
    "import folium\n",
    "import json\n",
    "\n",
    "from geopy.geocoders import Nominatim # convert an address into latitude and longitude values\n",
    "\n",
    "\n",
    "from pandas.io.json import json_normalize\n",
    "\n",
    "import matplotlib.cm as cm\n",
    "import matplotlib.colors as colors\n",
    "\n",
    "from sklearn.cluster import KMeans\n",
    "\n",
    "import folium # map rendering library"
   ]
  },
  {
   "cell_type": "code",
   "execution_count": 56,
   "metadata": {},
   "outputs": [
    {
     "name": "stdout",
     "output_type": "stream",
     "text": [
      "The geograpical coordinate of Montreal,Canada are 45.4972159, -73.6103642.\n"
     ]
    }
   ],
   "source": [
    "address = dest_city+','+country1\n",
    "\n",
    "geolocator = Nominatim(user_agent=\"ny_explorer\")\n",
    "location = geolocator.geocode(address)\n",
    "latitude = location.latitude\n",
    "longitude = location.longitude\n",
    "print('The geograpical coordinate of {} are {}, {}.'.format(address, latitude, longitude))"
   ]
  },
  {
   "cell_type": "code",
   "execution_count": 58,
   "metadata": {},
   "outputs": [
    {
     "data": {
      "text/html": [
       "<div style=\"width:100%;\"><div style=\"position:relative;width:100%;height:0;padding-bottom:60%;\"><iframe src=\"data:text/html;charset=utf-8;base64,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\" style=\"position:absolute;width:100%;height:100%;left:0;top:0;border:none !important;\" allowfullscreen webkitallowfullscreen mozallowfullscreen></iframe></div></div>"
      ],
      "text/plain": [
       "<folium.folium.Map at 0x7f1c0f792460>"
      ]
     },
     "execution_count": 58,
     "metadata": {},
     "output_type": "execute_result"
    }
   ],
   "source": [
    "\n",
    "map_dest_city = folium.Map(location=[latitude, longitude], zoom_start=10)\n",
    "\n",
    "# add markers to map\n",
    "for lat, lng, borough in zip(dest_city_data['Latitude'], \n",
    "                             dest_city_data['Longitude'], \n",
    "                             dest_city_data['Borough']):\n",
    "    label = '{}'.format(borough)\n",
    "    label = folium.Popup(label, parse_html=True)\n",
    "    folium.CircleMarker(\n",
    "        [lat, lng],\n",
    "        radius=5,\n",
    "        popup=label,\n",
    "        color='blue',\n",
    "        fill=True,\n",
    "        fill_color='#3186cc',\n",
    "        fill_opacity=0.7,\n",
    "        parse_html=False).add_to(map_dest_city)  \n",
    "    \n",
    "map_dest_city"
   ]
  },
  {
   "cell_type": "code",
   "execution_count": 87,
   "metadata": {},
   "outputs": [],
   "source": [
    "# to save a PNG of the map\n",
    "import io\n",
    "from PIL import Image"
   ]
  },
  {
   "cell_type": "code",
   "execution_count": 88,
   "metadata": {},
   "outputs": [],
   "source": [
    "img_data = map_dest_city._to_png(5)\n",
    "img = Image.open(io.BytesIO(img_data))\n",
    "img.save('map_dest_city.png')"
   ]
  },
  {
   "cell_type": "markdown",
   "metadata": {},
   "source": [
    "![image](map_dest_city.png)"
   ]
  },
  {
   "cell_type": "code",
   "execution_count": 59,
   "metadata": {},
   "outputs": [],
   "source": [
    "# function that extracts the category of the venue\n",
    "def get_category_type(row):\n",
    "    try:\n",
    "        categories_list = row['categories']\n",
    "    except:\n",
    "        categories_list = row['venue.categories']\n",
    "        \n",
    "    if len(categories_list) == 0:\n",
    "        return None\n",
    "    else:\n",
    "        return categories_list[0]['name']"
   ]
  },
  {
   "cell_type": "markdown",
   "metadata": {},
   "source": [
    "### Explore Neighborhoods"
   ]
  },
  {
   "cell_type": "markdown",
   "metadata": {},
   "source": [
    "#### Use the same function of previous Lab"
   ]
  },
  {
   "cell_type": "code",
   "execution_count": 60,
   "metadata": {},
   "outputs": [],
   "source": [
    "def getNearbyVenues(names, latitudes, longitudes, radius=500):\n",
    "    \n",
    "    venues_list=[]\n",
    "    for name, lat, lng in zip(names, latitudes, longitudes):\n",
    "        print(name)\n",
    "            \n",
    "        # create the API request URL\n",
    "        url = 'https://api.foursquare.com/v2/venues/explore?&client_id={}&client_secret={}&v={}&ll={},{}&radius={}&limit={}'.format(\n",
    "            CLIENT_ID, \n",
    "            CLIENT_SECRET, \n",
    "            VERSION, \n",
    "            lat, \n",
    "            lng, \n",
    "            radius, \n",
    "            LIMIT)\n",
    "            \n",
    "        # make the GET request\n",
    "        results = requests.get(url).json()[\"response\"]['groups'][0]['items']\n",
    "        \n",
    "        # return only relevant information for each nearby venue\n",
    "        venues_list.append([(\n",
    "            name, \n",
    "            lat, \n",
    "            lng, \n",
    "            v['venue']['name'], \n",
    "            v['venue']['location']['lat'], \n",
    "            v['venue']['location']['lng'],  \n",
    "            v['venue']['categories'][0]['name']) for v in results])\n",
    "\n",
    "    nearby_venues = pd.DataFrame([item for venue_list in venues_list for item in venue_list])\n",
    "    nearby_venues.columns = ['Neighborhood', \n",
    "                  'Neighborhood Latitude', \n",
    "                  'Neighborhood Longitude', \n",
    "                  'Venue', \n",
    "                  'Venue Latitude', \n",
    "                  'Venue Longitude', \n",
    "                  'Venue Category']\n",
    "    \n",
    "    return(nearby_venues)"
   ]
  },
  {
   "cell_type": "markdown",
   "metadata": {},
   "source": [
    "#### Run the function"
   ]
  },
  {
   "cell_type": "code",
   "execution_count": 62,
   "metadata": {
    "collapsed": false,
    "jupyter": {
     "outputs_hidden": false
    },
    "scrolled": true
   },
   "outputs": [
    {
     "name": "stdout",
     "output_type": "stream",
     "text": [
      "Montreal East\n",
      "Montreal North North\n",
      "Montreal North South\n",
      "Old Montreal\n",
      "Downtown Montreal Northeast\n",
      "Downtown Montreal North\n",
      "Downtown Montreal East\n",
      "Downtown Montreal Southeast\n",
      "Downtown Montreal South & West\n",
      "Hampstead\n",
      "Westmount West\n",
      "Westmount East\n",
      "Cote-Saint-Luc West\n",
      "Montreal West\n",
      "Kirkland\n",
      "Dorval Outskirts\n",
      "Pointe-Claire\n",
      "Beaconsfield\n"
     ]
    }
   ],
   "source": [
    "LIMIT = 100\n",
    "radius = 500\n",
    "dest_city_venues = getNearbyVenues(names=dest_city_data['Borough'],\n",
    "                                   latitudes=dest_city_data['Latitude'],\n",
    "                                   longitudes=dest_city_data['Longitude']\n",
    "                                  )\n",
    "\n"
   ]
  },
  {
   "cell_type": "markdown",
   "metadata": {},
   "source": [
    "#### Let's check the results"
   ]
  },
  {
   "cell_type": "code",
   "execution_count": 63,
   "metadata": {
    "collapsed": false,
    "jupyter": {
     "outputs_hidden": false
    }
   },
   "outputs": [
    {
     "name": "stdout",
     "output_type": "stream",
     "text": [
      "(492, 7)\n"
     ]
    },
    {
     "data": {
      "text/html": [
       "<div>\n",
       "<style scoped>\n",
       "    .dataframe tbody tr th:only-of-type {\n",
       "        vertical-align: middle;\n",
       "    }\n",
       "\n",
       "    .dataframe tbody tr th {\n",
       "        vertical-align: top;\n",
       "    }\n",
       "\n",
       "    .dataframe thead th {\n",
       "        text-align: right;\n",
       "    }\n",
       "</style>\n",
       "<table border=\"1\" class=\"dataframe\">\n",
       "  <thead>\n",
       "    <tr style=\"text-align: right;\">\n",
       "      <th></th>\n",
       "      <th>Neighborhood</th>\n",
       "      <th>Neighborhood Latitude</th>\n",
       "      <th>Neighborhood Longitude</th>\n",
       "      <th>Venue</th>\n",
       "      <th>Venue Latitude</th>\n",
       "      <th>Venue Longitude</th>\n",
       "      <th>Venue Category</th>\n",
       "    </tr>\n",
       "  </thead>\n",
       "  <tbody>\n",
       "    <tr>\n",
       "      <th>0</th>\n",
       "      <td>Montreal East</td>\n",
       "      <td>45.62912</td>\n",
       "      <td>-73.50468</td>\n",
       "      <td>Broadway Pizzeria</td>\n",
       "      <td>45.627372</td>\n",
       "      <td>-73.506175</td>\n",
       "      <td>Restaurant</td>\n",
       "    </tr>\n",
       "    <tr>\n",
       "      <th>1</th>\n",
       "      <td>Montreal East</td>\n",
       "      <td>45.62912</td>\n",
       "      <td>-73.50468</td>\n",
       "      <td>Centre Recreatif Edouard-Rivet</td>\n",
       "      <td>45.628681</td>\n",
       "      <td>-73.500580</td>\n",
       "      <td>Recreation Center</td>\n",
       "    </tr>\n",
       "    <tr>\n",
       "      <th>2</th>\n",
       "      <td>Montreal East</td>\n",
       "      <td>45.62912</td>\n",
       "      <td>-73.50468</td>\n",
       "      <td>Restaurant Sunshine</td>\n",
       "      <td>45.631091</td>\n",
       "      <td>-73.508728</td>\n",
       "      <td>Sushi Restaurant</td>\n",
       "    </tr>\n",
       "    <tr>\n",
       "      <th>3</th>\n",
       "      <td>Montreal East</td>\n",
       "      <td>45.62912</td>\n",
       "      <td>-73.50468</td>\n",
       "      <td>Deli Diane</td>\n",
       "      <td>45.626068</td>\n",
       "      <td>-73.502196</td>\n",
       "      <td>Deli / Bodega</td>\n",
       "    </tr>\n",
       "    <tr>\n",
       "      <th>4</th>\n",
       "      <td>Montreal East</td>\n",
       "      <td>45.62912</td>\n",
       "      <td>-73.50468</td>\n",
       "      <td>Couche-Tard</td>\n",
       "      <td>45.626031</td>\n",
       "      <td>-73.502286</td>\n",
       "      <td>Convenience Store</td>\n",
       "    </tr>\n",
       "  </tbody>\n",
       "</table>\n",
       "</div>"
      ],
      "text/plain": [
       "    Neighborhood  Neighborhood Latitude  Neighborhood Longitude  \\\n",
       "0  Montreal East               45.62912               -73.50468   \n",
       "1  Montreal East               45.62912               -73.50468   \n",
       "2  Montreal East               45.62912               -73.50468   \n",
       "3  Montreal East               45.62912               -73.50468   \n",
       "4  Montreal East               45.62912               -73.50468   \n",
       "\n",
       "                            Venue  Venue Latitude  Venue Longitude  \\\n",
       "0               Broadway Pizzeria       45.627372       -73.506175   \n",
       "1  Centre Recreatif Edouard-Rivet       45.628681       -73.500580   \n",
       "2             Restaurant Sunshine       45.631091       -73.508728   \n",
       "3                      Deli Diane       45.626068       -73.502196   \n",
       "4                     Couche-Tard       45.626031       -73.502286   \n",
       "\n",
       "      Venue Category  \n",
       "0         Restaurant  \n",
       "1  Recreation Center  \n",
       "2   Sushi Restaurant  \n",
       "3      Deli / Bodega  \n",
       "4  Convenience Store  "
      ]
     },
     "execution_count": 63,
     "metadata": {},
     "output_type": "execute_result"
    }
   ],
   "source": [
    "print(dest_city_venues.shape)\n",
    "dest_city_venues.head()"
   ]
  },
  {
   "cell_type": "markdown",
   "metadata": {},
   "source": [
    "Let's check how many venues were returned for each neighborhood"
   ]
  },
  {
   "cell_type": "code",
   "execution_count": 65,
   "metadata": {
    "collapsed": false,
    "jupyter": {
     "outputs_hidden": false
    }
   },
   "outputs": [
    {
     "data": {
      "text/html": [
       "<div>\n",
       "<style scoped>\n",
       "    .dataframe tbody tr th:only-of-type {\n",
       "        vertical-align: middle;\n",
       "    }\n",
       "\n",
       "    .dataframe tbody tr th {\n",
       "        vertical-align: top;\n",
       "    }\n",
       "\n",
       "    .dataframe thead th {\n",
       "        text-align: right;\n",
       "    }\n",
       "</style>\n",
       "<table border=\"1\" class=\"dataframe\">\n",
       "  <thead>\n",
       "    <tr style=\"text-align: right;\">\n",
       "      <th></th>\n",
       "      <th>Neighborhood Latitude</th>\n",
       "      <th>Neighborhood Longitude</th>\n",
       "      <th>Venue</th>\n",
       "      <th>Venue Latitude</th>\n",
       "      <th>Venue Longitude</th>\n",
       "      <th>Venue Category</th>\n",
       "    </tr>\n",
       "    <tr>\n",
       "      <th>Neighborhood</th>\n",
       "      <th></th>\n",
       "      <th></th>\n",
       "      <th></th>\n",
       "      <th></th>\n",
       "      <th></th>\n",
       "      <th></th>\n",
       "    </tr>\n",
       "  </thead>\n",
       "  <tbody>\n",
       "    <tr>\n",
       "      <th>Beaconsfield</th>\n",
       "      <td>1</td>\n",
       "      <td>1</td>\n",
       "      <td>1</td>\n",
       "      <td>1</td>\n",
       "      <td>1</td>\n",
       "      <td>1</td>\n",
       "    </tr>\n",
       "    <tr>\n",
       "      <th>Cote-Saint-Luc West</th>\n",
       "      <td>4</td>\n",
       "      <td>4</td>\n",
       "      <td>4</td>\n",
       "      <td>4</td>\n",
       "      <td>4</td>\n",
       "      <td>4</td>\n",
       "    </tr>\n",
       "    <tr>\n",
       "      <th>Dorval Outskirts</th>\n",
       "      <td>2</td>\n",
       "      <td>2</td>\n",
       "      <td>2</td>\n",
       "      <td>2</td>\n",
       "      <td>2</td>\n",
       "      <td>2</td>\n",
       "    </tr>\n",
       "    <tr>\n",
       "      <th>Downtown Montreal East</th>\n",
       "      <td>82</td>\n",
       "      <td>82</td>\n",
       "      <td>82</td>\n",
       "      <td>82</td>\n",
       "      <td>82</td>\n",
       "      <td>82</td>\n",
       "    </tr>\n",
       "    <tr>\n",
       "      <th>Downtown Montreal North</th>\n",
       "      <td>57</td>\n",
       "      <td>57</td>\n",
       "      <td>57</td>\n",
       "      <td>57</td>\n",
       "      <td>57</td>\n",
       "      <td>57</td>\n",
       "    </tr>\n",
       "    <tr>\n",
       "      <th>Downtown Montreal Northeast</th>\n",
       "      <td>100</td>\n",
       "      <td>100</td>\n",
       "      <td>100</td>\n",
       "      <td>100</td>\n",
       "      <td>100</td>\n",
       "      <td>100</td>\n",
       "    </tr>\n",
       "    <tr>\n",
       "      <th>Downtown Montreal South &amp; West</th>\n",
       "      <td>9</td>\n",
       "      <td>9</td>\n",
       "      <td>9</td>\n",
       "      <td>9</td>\n",
       "      <td>9</td>\n",
       "      <td>9</td>\n",
       "    </tr>\n",
       "    <tr>\n",
       "      <th>Downtown Montreal Southeast</th>\n",
       "      <td>100</td>\n",
       "      <td>100</td>\n",
       "      <td>100</td>\n",
       "      <td>100</td>\n",
       "      <td>100</td>\n",
       "      <td>100</td>\n",
       "    </tr>\n",
       "    <tr>\n",
       "      <th>Hampstead</th>\n",
       "      <td>3</td>\n",
       "      <td>3</td>\n",
       "      <td>3</td>\n",
       "      <td>3</td>\n",
       "      <td>3</td>\n",
       "      <td>3</td>\n",
       "    </tr>\n",
       "    <tr>\n",
       "      <th>Kirkland</th>\n",
       "      <td>4</td>\n",
       "      <td>4</td>\n",
       "      <td>4</td>\n",
       "      <td>4</td>\n",
       "      <td>4</td>\n",
       "      <td>4</td>\n",
       "    </tr>\n",
       "    <tr>\n",
       "      <th>Montreal East</th>\n",
       "      <td>7</td>\n",
       "      <td>7</td>\n",
       "      <td>7</td>\n",
       "      <td>7</td>\n",
       "      <td>7</td>\n",
       "      <td>7</td>\n",
       "    </tr>\n",
       "    <tr>\n",
       "      <th>Montreal North North</th>\n",
       "      <td>3</td>\n",
       "      <td>3</td>\n",
       "      <td>3</td>\n",
       "      <td>3</td>\n",
       "      <td>3</td>\n",
       "      <td>3</td>\n",
       "    </tr>\n",
       "    <tr>\n",
       "      <th>Montreal North South</th>\n",
       "      <td>10</td>\n",
       "      <td>10</td>\n",
       "      <td>10</td>\n",
       "      <td>10</td>\n",
       "      <td>10</td>\n",
       "      <td>10</td>\n",
       "    </tr>\n",
       "    <tr>\n",
       "      <th>Montreal West</th>\n",
       "      <td>7</td>\n",
       "      <td>7</td>\n",
       "      <td>7</td>\n",
       "      <td>7</td>\n",
       "      <td>7</td>\n",
       "      <td>7</td>\n",
       "    </tr>\n",
       "    <tr>\n",
       "      <th>Old Montreal</th>\n",
       "      <td>83</td>\n",
       "      <td>83</td>\n",
       "      <td>83</td>\n",
       "      <td>83</td>\n",
       "      <td>83</td>\n",
       "      <td>83</td>\n",
       "    </tr>\n",
       "    <tr>\n",
       "      <th>Pointe-Claire</th>\n",
       "      <td>9</td>\n",
       "      <td>9</td>\n",
       "      <td>9</td>\n",
       "      <td>9</td>\n",
       "      <td>9</td>\n",
       "      <td>9</td>\n",
       "    </tr>\n",
       "    <tr>\n",
       "      <th>Westmount East</th>\n",
       "      <td>7</td>\n",
       "      <td>7</td>\n",
       "      <td>7</td>\n",
       "      <td>7</td>\n",
       "      <td>7</td>\n",
       "      <td>7</td>\n",
       "    </tr>\n",
       "    <tr>\n",
       "      <th>Westmount West</th>\n",
       "      <td>4</td>\n",
       "      <td>4</td>\n",
       "      <td>4</td>\n",
       "      <td>4</td>\n",
       "      <td>4</td>\n",
       "      <td>4</td>\n",
       "    </tr>\n",
       "  </tbody>\n",
       "</table>\n",
       "</div>"
      ],
      "text/plain": [
       "                                Neighborhood Latitude  Neighborhood Longitude  \\\n",
       "Neighborhood                                                                    \n",
       "Beaconsfield                                        1                       1   \n",
       "Cote-Saint-Luc West                                 4                       4   \n",
       "Dorval Outskirts                                    2                       2   \n",
       "Downtown Montreal East                             82                      82   \n",
       "Downtown Montreal North                            57                      57   \n",
       "Downtown Montreal Northeast                       100                     100   \n",
       "Downtown Montreal South & West                      9                       9   \n",
       "Downtown Montreal Southeast                       100                     100   \n",
       "Hampstead                                           3                       3   \n",
       "Kirkland                                            4                       4   \n",
       "Montreal East                                       7                       7   \n",
       "Montreal North North                                3                       3   \n",
       "Montreal North South                               10                      10   \n",
       "Montreal West                                       7                       7   \n",
       "Old Montreal                                       83                      83   \n",
       "Pointe-Claire                                       9                       9   \n",
       "Westmount East                                      7                       7   \n",
       "Westmount West                                      4                       4   \n",
       "\n",
       "                                Venue  Venue Latitude  Venue Longitude  \\\n",
       "Neighborhood                                                             \n",
       "Beaconsfield                        1               1                1   \n",
       "Cote-Saint-Luc West                 4               4                4   \n",
       "Dorval Outskirts                    2               2                2   \n",
       "Downtown Montreal East             82              82               82   \n",
       "Downtown Montreal North            57              57               57   \n",
       "Downtown Montreal Northeast       100             100              100   \n",
       "Downtown Montreal South & West      9               9                9   \n",
       "Downtown Montreal Southeast       100             100              100   \n",
       "Hampstead                           3               3                3   \n",
       "Kirkland                            4               4                4   \n",
       "Montreal East                       7               7                7   \n",
       "Montreal North North                3               3                3   \n",
       "Montreal North South               10              10               10   \n",
       "Montreal West                       7               7                7   \n",
       "Old Montreal                       83              83               83   \n",
       "Pointe-Claire                       9               9                9   \n",
       "Westmount East                      7               7                7   \n",
       "Westmount West                      4               4                4   \n",
       "\n",
       "                                Venue Category  \n",
       "Neighborhood                                    \n",
       "Beaconsfield                                 1  \n",
       "Cote-Saint-Luc West                          4  \n",
       "Dorval Outskirts                             2  \n",
       "Downtown Montreal East                      82  \n",
       "Downtown Montreal North                     57  \n",
       "Downtown Montreal Northeast                100  \n",
       "Downtown Montreal South & West               9  \n",
       "Downtown Montreal Southeast                100  \n",
       "Hampstead                                    3  \n",
       "Kirkland                                     4  \n",
       "Montreal East                                7  \n",
       "Montreal North North                         3  \n",
       "Montreal North South                        10  \n",
       "Montreal West                                7  \n",
       "Old Montreal                                83  \n",
       "Pointe-Claire                                9  \n",
       "Westmount East                               7  \n",
       "Westmount West                               4  "
      ]
     },
     "execution_count": 65,
     "metadata": {},
     "output_type": "execute_result"
    }
   ],
   "source": [
    "dest_city_venues.groupby('Neighborhood').count()"
   ]
  },
  {
   "cell_type": "markdown",
   "metadata": {},
   "source": [
    "#### Let's find out how many unique categories can be curated from all the returned venues"
   ]
  },
  {
   "cell_type": "code",
   "execution_count": 66,
   "metadata": {
    "collapsed": false,
    "jupyter": {
     "outputs_hidden": false
    }
   },
   "outputs": [
    {
     "name": "stdout",
     "output_type": "stream",
     "text": [
      "There are 152 uniques categories.\n"
     ]
    }
   ],
   "source": [
    "print('There are {} uniques categories.'.format(len(dest_city_venues['Venue Category'].unique())))"
   ]
  },
  {
   "cell_type": "markdown",
   "metadata": {},
   "source": [
    "# Data description and methods\n",
    "\n",
    "From the tables above, we will extract the following features:\n",
    "\n",
    "- We will focus in the destination cities which have a nearby airport.\n",
    "- With the origin address and country destination we will determine the most appropiated cities to migrate.\n",
    "- We will use postal code information to get the borough of the destination cities.\n",
    "- We will use bing to get the coordinates of the boroughs.\n",
    "- We will use follium to display the map and the boroughs.\n",
    "- We will use foursquare API to get the most popular venues in destination and origin cities.\n",
    "- We will use k-means clustering to cluster the boroughs with common features.\n",
    "- We will determine the similarity between the borough of origin and each cluster in the city of destination, usign a recommendation engine."
   ]
  },
  {
   "cell_type": "code",
   "execution_count": null,
   "metadata": {},
   "outputs": [],
   "source": []
  }
 ],
 "metadata": {
  "kernelspec": {
   "display_name": "Python 3",
   "language": "python",
   "name": "python3"
  },
  "language_info": {
   "codemirror_mode": {
    "name": "ipython",
    "version": 3
   },
   "file_extension": ".py",
   "mimetype": "text/x-python",
   "name": "python",
   "nbconvert_exporter": "python",
   "pygments_lexer": "ipython3",
   "version": "3.8.3"
  }
 },
 "nbformat": 4,
 "nbformat_minor": 4
}
